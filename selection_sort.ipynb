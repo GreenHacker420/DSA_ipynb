{
 "cells": [
  {
   "cell_type": "markdown",
   "metadata": {},
   "source": [
    "Selection Sort"
   ]
  },
  {
   "cell_type": "code",
   "execution_count": null,
   "metadata": {},
   "outputs": [],
   "source": [
    "def selection_sort(seq):\n",
    "    for i in range(len(seq)):\n",
    "        min_idx = i\n",
    "        for j in range(i+1, len(seq)):\n",
    "            if seq[j] < seq[min_idx]:\n",
    "                min_idx = j\n",
    "        seq[i], seq[min_idx] = seq[min_idx], seq[i]\n",
    "    return seq"
   ]
  },
  {
   "cell_type": "markdown",
   "metadata": {},
   "source": [
    "Selection Sort Using 1 Recursion"
   ]
  },
  {
   "cell_type": "code",
   "execution_count": null,
   "metadata": {},
   "outputs": [],
   "source": [
    "def selection_sort(seq, i=0):\n",
    "    if i == len(seq):\n",
    "        return seq\n",
    "    min_idx = i\n",
    "    for j in range(i+1, len(seq)):\n",
    "        if seq[j] < seq[min_idx]:\n",
    "            min_idx = j\n",
    "    seq[i], seq[min_idx] = seq[min_idx], seq[i]\n",
    "    return selection_sort(seq, i+1)\n"
   ]
  },
  {
   "cell_type": "markdown",
   "metadata": {},
   "source": [
    "Selection Sort Using 2 Recursion"
   ]
  },
  {
   "cell_type": "code",
   "execution_count": null,
   "metadata": {},
   "outputs": [],
   "source": [
    "def find_min_idx(seq, i, min_idx):\n",
    "    if i == len(seq):\n",
    "        return min_idx\n",
    "    if seq[i] < seq[min_idx]:\n",
    "        min_idx = i\n",
    "    return find_min_idx(seq, i+1, min_idx)"
   ]
  }
 ],
 "metadata": {
  "language_info": {
   "name": "python"
  }
 },
 "nbformat": 4,
 "nbformat_minor": 2
}
