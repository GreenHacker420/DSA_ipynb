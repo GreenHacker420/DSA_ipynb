{
 "cells": [
  {
   "cell_type": "markdown",
   "metadata": {},
   "source": [
    "Printing All Subarrays"
   ]
  },
  {
   "cell_type": "code",
   "execution_count": 3,
   "metadata": {},
   "outputs": [
    {
     "name": "stdout",
     "output_type": "stream",
     "text": [
      "[3] [3, -4] [3, -4, 5] [3, -4, 5, 4] [3, -4, 5, 4, -1] [3, -4, 5, 4, -1, 7] [3, -4, 5, 4, -1, 7, -8] \n",
      "[-4] [-4, 5] [-4, 5, 4] [-4, 5, 4, -1] [-4, 5, 4, -1, 7] [-4, 5, 4, -1, 7, -8] \n",
      "[5] [5, 4] [5, 4, -1] [5, 4, -1, 7] [5, 4, -1, 7, -8] \n",
      "[4] [4, -1] [4, -1, 7] [4, -1, 7, -8] \n",
      "[-1] [-1, 7] [-1, 7, -8] \n",
      "[7] [7, -8] \n",
      "[-8] \n"
     ]
    }
   ],
   "source": [
    "def subarrays(arr):\n",
    "    n = len(arr)\n",
    "    for i in range(n):\n",
    "        for j in range(i,n):\n",
    "            print(arr[i:j+1] , end = \" \")\n",
    "        print()            \n",
    "arr = [3,-4,5,4,-1,7,-8]\n",
    "subarrays(arr)"
   ]
  },
  {
   "cell_type": "markdown",
   "metadata": {},
   "source": [
    "Maximum subarray sum  brute-force"
   ]
  },
  {
   "cell_type": "code",
   "execution_count": 1,
   "metadata": {},
   "outputs": [
    {
     "name": "stdout",
     "output_type": "stream",
     "text": [
      "3 -1 4 8 7 14 6 \n",
      "-4 1 5 4 11 3 \n",
      "5 9 8 15 7 \n",
      "4 3 10 2 \n",
      "-1 6 -2 \n",
      "7 -1 \n",
      "-8 \n",
      "Max sum of subarray is :  15\n"
     ]
    }
   ],
   "source": [
    "def sum_subarrays(arr):\n",
    "    n = len(arr)\n",
    "    max_sum = 0\n",
    "    for i in range(n):\n",
    "        sum = 0\n",
    "        for j in range(i,n):\n",
    "            sum += arr[j]\n",
    "            max_sum = max(max_sum , sum)\n",
    "            print(sum , end = \" \")\n",
    "        print()\n",
    "    print(\"Max sum of subarray is : \",max_sum)\n",
    "arr = [3,-4,5,4,-1,7,-8]\n",
    "sum_subarrays(arr)"
   ]
  },
  {
   "cell_type": "markdown",
   "metadata": {},
   "source": [
    "Kadane's Algorithm"
   ]
  },
  {
   "cell_type": "code",
   "execution_count": 2,
   "metadata": {},
   "outputs": [
    {
     "name": "stdout",
     "output_type": "stream",
     "text": [
      "15\n"
     ]
    }
   ],
   "source": [
    "def kadane(arr):\n",
    "    max_sum = 0\n",
    "    curr_sum = 0\n",
    "    for i in range(len(arr)):\n",
    "        curr_sum += arr[i]\n",
    "        max_sum = max(max_sum , curr_sum)\n",
    "        if curr_sum < 0:\n",
    "            curr_sum = 0\n",
    "    return max_sum\n",
    "arr = [3,-4,5,4,-1,7,-8]\n",
    "print(kadane(arr))\n",
    "    "
   ]
  }
 ],
 "metadata": {
  "kernelspec": {
   "display_name": "Python 3",
   "language": "python",
   "name": "python3"
  },
  "language_info": {
   "codemirror_mode": {
    "name": "ipython",
    "version": 3
   },
   "file_extension": ".py",
   "mimetype": "text/x-python",
   "name": "python",
   "nbconvert_exporter": "python",
   "pygments_lexer": "ipython3",
   "version": "3.12.5"
  }
 },
 "nbformat": 4,
 "nbformat_minor": 2
}
