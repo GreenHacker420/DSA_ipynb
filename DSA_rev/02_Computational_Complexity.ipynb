{
 "cells": [
  {
   "cell_type": "markdown",
   "metadata": {},
   "source": [
    "# Computational Complexity Analysis\n",
    "\n",
    "## Introduction\n",
    "\n",
    "Computational complexity analysis is a fundamental concept in computer science that helps us understand the efficiency of algorithms in terms of time (how long it takes to run) and space (how much memory it uses). This understanding is crucial for designing efficient algorithms and choosing the right algorithm for a specific problem.\n",
    "\n",
    "## Asymptotic Notations\n",
    "\n",
    "Asymptotic notations provide a way to describe the running time or space requirements of an algorithm as the input size grows. The three most common notations are Big O, Big Omega, and Big Theta.\n",
    "\n",
    "### Big O Notation (O)\n",
    "\n",
    "Big O notation represents the **upper bound** of an algorithm's running time or space usage. It describes the worst-case scenario.\n",
    "\n",
    "- **Definition**: f(n) = O(g(n)) if there exist positive constants c and n₀ such that f(n) ≤ c·g(n) for all n ≥ n₀.\n",
    "- **Intuition**: The function f(n) grows no faster than g(n).\n",
    "\n",
    "### Big Omega Notation (Ω)\n",
    "\n",
    "Big Omega notation represents the **lower bound** of an algorithm's running time or space usage. It describes the best-case scenario.\n",
    "\n",
    "- **Definition**: f(n) = Ω(g(n)) if there exist positive constants c and n₀ such that f(n) ≥ c·g(n) for all n ≥ n₀.\n",
    "- **Intuition**: The function f(n) grows at least as fast as g(n).\n",
    "\n",
    "### Big Theta Notation (Θ)\n",
    "\n",
    "Big Theta notation represents both the **upper and lower bounds** of an algorithm's running time or space usage. It describes the tight bound.\n",
    "\n",
    "- **Definition**: f(n) = Θ(g(n)) if there exist positive constants c₁, c₂, and n₀ such that c₁·g(n) ≤ f(n) ≤ c₂·g(n) for all n ≥ n₀.\n",
    "- **Intuition**: The function f(n) grows at the same rate as g(n)."
   ]
  },
  {
   "cell_type": "markdown",
   "metadata": {},
   "source": [
    "## Visual Representation of Common Complexity Classes\n",
    "\n",
    "Here's a visual representation of how different complexity classes grow with input size:\n",
    "\n",
    "```\n",
    "                                                   ↑\n",
    "                                                   │\n",
    "                                                   │                    O(2^n)\n",
    "                                                   │                   /\n",
    "                                                   │                  /\n",
    "                                                   │                 /\n",
    "                                                   │                /\n",
    "                                                   │               /\n",
    "                                                   │              /\n",
    "                                                   │             /\n",
    "                                                   │            /\n",
    "                                                   │           /\n",
    "                                                   │          /\n",
    "                                                   │         /         O(n²)\n",
    "                                                   │        /         /\n",
    "                                                   │       /         /\n",
    "                                                   │      /         /\n",
    "                                                   │     /         /\n",
    "                                                   │    /         /\n",
    "                                                   │   /         /           O(n log n)\n",
    "                                                   │  /         /           /\n",
    "                                                   │ /         /           /\n",
    "                                                   │/         /           /\n",
    "                                                   │         /           /                O(n)\n",
    "                                                   │        /           /                /\n",
    "                                                   │       /           /                /\n",
    "                                                   │      /           /                /\n",
    "                                                   │     /           /                /\n",
    "                                                   │    /           /                /                  O(log n)\n",
    "                                                   │   /           /                /                  /\n",
    "                                                   │  /           /                /                  /\n",
    "                                                   │ /           /                /                  /\n",
    "                                                   │/___________/________________/________________/______________ O(1)\n",
    "                                                   │\n",
    "                                                   └─────────────────────────────────────────────────────────────→\n",
    "                                                                           Input Size (n)\n",
    "```"
   ]
  },
  {
   "cell_type": "markdown",
   "metadata": {},
   "source": [
    "## Comparison Table of Time Complexities\n",
    "\n",
    "| Complexity    | Name           | Example Algorithm                      | n=10      | n=100     | n=1000    |\n",
    "|---------------|----------------|----------------------------------------|-----------|-----------|------------|\n",
    "| O(1)          | Constant       | Array access, Hash table lookup        | 1         | 1         | 1          |\n",
    "| O(log n)      | Logarithmic    | Binary search, Balanced BST operations | 3.32      | 6.64      | 9.97       |\n",
    "| O(n)          | Linear         | Linear search, Traversing an array     | 10        | 100       | 1,000      |\n",
    "| O(n log n)    | Linearithmic   | Merge sort, Heap sort                  | 33.2      | 664       | 9,966      |\n",
    "| O(n²)         | Quadratic      | Bubble sort, Insertion sort            | 100       | 10,000    | 1,000,000  |\n",
    "| O(n³)         | Cubic          | Floyd-Warshall algorithm               | 1,000     | 1,000,000 | 10⁹        |\n",
    "| O(2^n)        | Exponential    | Recursive Fibonacci, Tower of Hanoi    | 1,024     | 10³⁰      | 10³⁰¹      |\n",
    "| O(n!)         | Factorial      | Brute force traveling salesman         | 3,628,800 | 10¹⁵⁸     | 10²⁵⁶⁸     |"
   ]
  },
  {
   "cell_type": "markdown",
   "metadata": {},
   "source": [
    "## Analysis of Specific Complexities\n",
    "\n",
    "### O(1) - Constant Time\n",
    "\n",
    "An algorithm with constant time complexity performs the same number of operations regardless of the input size.\n",
    "\n",
    "**Example**: Accessing an element in an array by index."
   ]
  },
  {
   "cell_type": "code",
   "execution_count": null,
   "metadata": {},
   "outputs": [],
   "source": [
    "def get_element(arr, index):\n",
    "    \"\"\"Access an element in an array by index - O(1).\"\"\"\n",
    "    return arr[index]\n",
    "\n",
    "# Example usage\n",
    "arr = [10, 20, 30, 40, 50]\n",
    "print(f\"Element at index 2: {get_element(arr, 2)}\")"
   ]
  },
  {
   "cell_type": "markdown",
   "metadata": {},
   "source": [
    "### O(log n) - Logarithmic Time\n",
    "\n",
    "An algorithm with logarithmic time complexity reduces the problem size by a factor (usually 2) in each step.\n",
    "\n",
    "**Example**: Binary search in a sorted array."
   ]
  },
  {
   "cell_type": "code",
   "execution_count": null,
   "metadata": {},
   "outputs": [],
   "source": [
    "def binary_search(arr, target):\n",
    "    \"\"\"Binary search in a sorted array - O(log n).\"\"\"\n",
    "    left, right = 0, len(arr) - 1\n",
    "    \n",
    "    while left <= right:\n",
    "        mid = left + (right - left) // 2  # Avoid integer overflow\n",
    "        \n",
    "        if arr[mid] == target:\n",
    "            return mid  # Found the target\n",
    "        elif arr[mid] < target:\n",
    "            left = mid + 1  # Search in the right half\n",
    "        else:\n",
    "            right = mid - 1  # Search in the left half\n",
    "    \n",
    "    return -1  # Target not found\n",
    "\n",
    "# Example usage\n",
    "arr = [1, 3, 5, 7, 9, 11, 13, 15, 17, 19]\n",
    "target = 11\n",
    "index = binary_search(arr, target)\n",
    "print(f\"Index of {target}: {index}\")"
   ]
  }
 ],
 "metadata": {
  "kernelspec": {
   "display_name": "Python 3",
   "language": "python",
   "name": "python3"
  },
  "language_info": {
   "codemirror_mode": {
    "name": "ipython",
    "version": 3
   },
   "file_extension": ".py",
   "mimetype": "text/x-python",
   "name": "python",
   "nbconvert_exporter": "python",
   "pygments_lexer": "ipython3",
   "version": "3.8.5"
  }
 },
 "nbformat": 4,
 "nbformat_minor": 4
}
